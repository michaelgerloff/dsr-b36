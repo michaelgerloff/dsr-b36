{
 "cells": [
  {
   "cell_type": "code",
   "execution_count": 1,
   "id": "c8374420-df39-4412-b8e2-2e082272184e",
   "metadata": {
    "tags": []
   },
   "outputs": [],
   "source": [
    "import pandas as pd"
   ]
  },
  {
   "cell_type": "markdown",
   "id": "87d43f83-206d-4f92-8afb-9c413ed4f384",
   "metadata": {},
   "source": [
    "# Header 1"
   ]
  },
  {
   "cell_type": "markdown",
   "id": "657dd87c-e2b9-4b4e-94af-7373a5615e80",
   "metadata": {},
   "source": [
    "# Header 2"
   ]
  },
  {
   "cell_type": "code",
   "execution_count": null,
   "id": "c46cdebe-fcc5-4b37-ae9a-92f6e11ae673",
   "metadata": {},
   "outputs": [],
   "source": []
  }
 ],
 "metadata": {
  "kernelspec": {
   "display_name": "dsr-b36",
   "language": "python",
   "name": "dsr-b36"
  },
  "language_info": {
   "codemirror_mode": {
    "name": "ipython",
    "version": 3
   },
   "file_extension": ".py",
   "mimetype": "text/x-python",
   "name": "python",
   "nbconvert_exporter": "python",
   "pygments_lexer": "ipython3",
   "version": "3.10.12"
  }
 },
 "nbformat": 4,
 "nbformat_minor": 5
}
